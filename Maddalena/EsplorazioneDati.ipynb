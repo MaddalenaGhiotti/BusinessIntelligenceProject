{
 "cells": [
  {
   "cell_type": "markdown",
   "id": "34dffd63",
   "metadata": {},
   "source": [
    "# Esplorazione dati"
   ]
  },
  {
   "cell_type": "code",
   "execution_count": null,
   "id": "bcbd9d0a",
   "metadata": {},
   "outputs": [],
   "source": [
    "#Stile di visualizzazione plot fatti con matplotlib\n",
    "%matplotlib inline\n",
    "\n",
    "#Base\n",
    "import os\n",
    "import pandas as pd\n",
    "import numpy as np\n",
    "import time\n",
    "\n",
    "#Visualizzazione\n",
    "import matplotlib.pyplot as plt\n",
    "from IPython.display import display\n",
    "import seaborn as sn  #Per heatmap\n",
    "\n",
    "#Preprocessing e altro\n",
    "from sklearn.preprocessing import MinMaxScaler, LabelEncoder\n",
    "from sklearn.decomposition import PCA\n",
    "from sklearn.model_selection import train_test_split, cross_val_predict, GridSearchCV, ParameterGrid\n",
    "\n",
    "#Models\n",
    "from sklearn.tree import DecisionTreeClassifier\n",
    "from sklearn.ensemble import RandomForestClassifier\n",
    "from sklearn.svm import SVC as SupportVectorMachineClassifier\n",
    "from sklearn.neural_network import MLPClassifier\n",
    "\n",
    "#Metrics\n",
    "from sklearn.metrics import accuracy_score, precision_score, recall_score, confusion_matrix, f1_score, make_scorer\n"
   ]
  },
  {
   "cell_type": "code",
   "execution_count": null,
   "id": "af11f8f9",
   "metadata": {},
   "outputs": [],
   "source": [
    "#Inutili o da capire\n",
    "from sklearn.tree import export_text\n",
    "from sklearn.decomposition import TruncatedSVD\n",
    "from sklearn.discriminant_analysis import LinearDiscriminantAnalysis as LDA"
   ]
  }
 ],
 "metadata": {
  "kernelspec": {
   "display_name": "Python 3",
   "language": "python",
   "name": "python3"
  },
  "language_info": {
   "codemirror_mode": {
    "name": "ipython",
    "version": 3
   },
   "file_extension": ".py",
   "mimetype": "text/x-python",
   "name": "python",
   "nbconvert_exporter": "python",
   "pygments_lexer": "ipython3",
   "version": "3.13.2"
  }
 },
 "nbformat": 4,
 "nbformat_minor": 5
}
