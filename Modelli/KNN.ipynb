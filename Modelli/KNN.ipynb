{
 "cells": [
  {
   "cell_type": "markdown",
   "id": "6a11ec9e",
   "metadata": {},
   "source": [
    "# Librerie "
   ]
  },
  {
   "cell_type": "code",
   "execution_count": 1,
   "id": "0a1b7e61",
   "metadata": {},
   "outputs": [],
   "source": [
    "#Base\n",
    "import os\n",
    "import pandas as pd\n",
    "import numpy as np\n",
    "import scipy as sp\n",
    "import time\n",
    "import sys\n",
    "import matplotlib as plt\n",
    "from IPython.display import display\n",
    "import seaborn as sns\n",
    "import matplotlib.pyplot as plt\n",
    "\n",
    "\n",
    "from sklearn.neighbors import KNeighborsClassifier\n",
    "from sklearn.model_selection import GridSearchCV, ParameterGrid\n",
    "from sklearn.metrics import (\n",
    "    accuracy_score,      \n",
    "    precision_score,     \n",
    "    recall_score,        \n",
    "    confusion_matrix,       \n",
    "    f1_score             \n",
    ")\n",
    "\n",
    "\n",
    "sys.path.insert(1,'../Data') \n",
    "from preprocessing import preprocessing_diabetes\n",
    "\n",
    "#Set the random seed for reproducibility\n",
    "import random\n",
    "random.seed(42)\n",
    "np.random.seed(42) \n",
    "\n",
    "\n"
   ]
  },
  {
   "cell_type": "markdown",
   "id": "61051f12",
   "metadata": {},
   "source": [
    "# Funzioni"
   ]
  },
  {
   "cell_type": "code",
   "execution_count": 2,
   "id": "8720ce91",
   "metadata": {},
   "outputs": [],
   "source": [
    "from sklearn import metrics\n",
    "\n",
    "\n",
    "def knn_grid_search(X_train_in, y_train_in, max_neighbors=5, num_partizioni=10, modelName='Name'):\n",
    "    KNN = KNeighborsClassifier() \n",
    "    #Grid space\n",
    "\n",
    "    search_space = {\n",
    "    'n_neighbors': list(range(1, max_neighbors + 1)),\n",
    "    'weights': ['uniform', 'distance'],\n",
    "    'metric': ['euclidean', 'manhattan']\n",
    "}\n",
    "\n",
    "    #Grid search with cross-validation\n",
    "    grid_search = GridSearchCV(\n",
    "    KNN,\n",
    "    param_grid = search_space,\n",
    "    scoring = { \"accuracy\": \"accuracy\",\n",
    "                \"precision\": \"precision\",\n",
    "                \"recall\": \"recall\",\n",
    "                \"f1\": \"f1\" },\n",
    "        refit='f1',\n",
    "    cv= num_partizioni,\n",
    "    )\n",
    "    \n",
    "    grid_search.fit(X_train_in, y_train_in)\n",
    "    \n",
    "   \n",
    "    best_index = grid_search.best_index_\n",
    "\n",
    "    mean_accuracy = grid_search.cv_results_['mean_test_accuracy'][best_index]\n",
    "    mean_precision = grid_search.cv_results_['mean_test_precision'][best_index]\n",
    "    mean_recall = grid_search.cv_results_['mean_test_recall'][best_index]\n",
    "    mean_f1 = grid_search.cv_results_['mean_test_f1'][best_index]\n",
    "\n",
    "\n",
    "    Performance_best_model = pd.DataFrame(\n",
    "        [[mean_accuracy, mean_precision, mean_recall, mean_f1]],\n",
    "        columns=['Accuracy', 'Precision', 'Recall', 'F1'],\n",
    "        index=[modelName]\n",
    "    )\n",
    "\n",
    "    \n",
    "    Parameter_Best = grid_search.best_params_  \n",
    "    Parameter_Best= pd.DataFrame(Parameter_Best, index=[modelName])\n",
    "    \n",
    "    Featurces_Best_df= pd.concat([ Performance_best_model, Parameter_Best], axis=1)\n",
    "    \n",
    "    KNN_Best= grid_search.best_estimator_\n",
    "    \n",
    "    return KNN_Best, Featurces_Best_df\n",
    "\n",
    "\n",
    "def evaluate_knn(knn_model, X_test, y_test, label='Test'):\n",
    "    \n",
    "    y_pred = knn_model.predict(X_test)\n",
    "    \n",
    "    accuracy = accuracy_score(y_test, y_pred)      \n",
    "    precision = precision_score(y_test, y_pred)     \n",
    "    recall = recall_score(y_test, y_pred)           \n",
    "    f1 = f1_score(y_test, y_pred)                   \n",
    "\n",
    "    metrics_df = pd.DataFrame(\n",
    "    data=[[accuracy, precision, recall, f1]],   \n",
    "    columns=['Accuracy', 'Precision', 'Recall', 'f1'],  \n",
    "    index=[label]                               \n",
    "    )\n",
    "\n",
    "    conf_mat=confusion_matrix(y_test, y_pred)\n",
    "    cm_df = pd.DataFrame(conf_mat,\n",
    "                        index=['0', '1'],\n",
    "                        columns=['0', '1']\n",
    "\n",
    "            )\n",
    "    return metrics_df, cm_df, \n",
    "\n",
    "\n"
   ]
  },
  {
   "cell_type": "markdown",
   "id": "0134046a",
   "metadata": {},
   "source": [
    "# Importazione dati"
   ]
  },
  {
   "cell_type": "code",
   "execution_count": 3,
   "id": "2ed1975d",
   "metadata": {},
   "outputs": [],
   "source": [
    "train_data= pd.read_csv('../Data/diabetes_train.csv')\n",
    "test_data= pd.read_csv('../Data/diabetes_test.csv')"
   ]
  },
  {
   "cell_type": "markdown",
   "id": "25eee0dd",
   "metadata": {},
   "source": [
    "# KNN con diversi Preprocessing"
   ]
  },
  {
   "cell_type": "markdown",
   "id": "77123911",
   "metadata": {},
   "source": [
    "### Without oversampling and new features\n"
   ]
  },
  {
   "cell_type": "code",
   "execution_count": 4,
   "id": "6061abe8",
   "metadata": {},
   "outputs": [],
   "source": [
    "#Normal \n",
    "X_train_norm, X_test_norm, y_train_norm, y_test_norm = preprocessing_diabetes(train_data, test_data, augment=False, oversample=False, delete_smoking=False)\n",
    "knn_best_norm, performance_train_df_norm = knn_grid_search(X_train_norm, y_train_norm, max_neighbors=15, num_partizioni=10, modelName='Normal')\n",
    "\n",
    "# PCA\n",
    "X_train_PCA, X_test_PCA, y_train_PCA, y_test_PCA = preprocessing_diabetes(train_data, test_data, option='PCA', augment=False, oversample=False, delete_smoking=False)\n",
    "knn_best_PCA, performance_train_df_PCA = knn_grid_search(X_train_PCA, y_train_PCA, max_neighbors=15, num_partizioni=10, modelName='PCA')\n",
    "\n",
    "#No Correlation\n",
    "X_train_noCorr, X_test_noCorr, y_train_noCorr, y_test_noCorr = preprocessing_diabetes(train_data, test_data, option='Delete', augment=False, oversample=False, delete_smoking=False)\n",
    "knn_best_noCorr, performance_train_df_noCorr = knn_grid_search(X_train_noCorr, y_train_noCorr, max_neighbors=15, num_partizioni=10 , modelName='No_Correlation')\n",
    "\n",
    "\n",
    "#No Smoking\n",
    "X_train_NoSmok, X_test_NoSmok, y_train_NoSmok, y_test_NoSmok = preprocessing_diabetes(train_data, test_data, augment=False, oversample=False, delete_smoking=True)\n",
    "knn_best_NoSmok, performance_train_df_NoSmok = knn_grid_search(X_train_NoSmok, y_train_NoSmok, max_neighbors=15, num_partizioni=10, modelName='No_Smoking')\n",
    "\n",
    "Performance_all = pd.concat([performance_train_df_norm, performance_train_df_PCA, performance_train_df_noCorr, performance_train_df_NoSmok], axis=0)"
   ]
  },
  {
   "cell_type": "markdown",
   "id": "de3209a3",
   "metadata": {},
   "source": [
    "### With oversampling and new features"
   ]
  },
  {
   "cell_type": "code",
   "execution_count": 5,
   "id": "125727ae",
   "metadata": {},
   "outputs": [],
   "source": [
    "#PCA\n",
    "X_train_PCA_OverAug, X_test_PCA_OverAug, y_train_PCA_OverAug, y_test_PCA_OverAug = preprocessing_diabetes(train_data, test_data, option='PCA',augment=True, oversample=True, delete_smoking=False)\n",
    "knn_best_PCA_OverAug, performance_train_df_PCA_OverAug = knn_grid_search(X_train_PCA_OverAug, y_train_PCA_OverAug, max_neighbors=15, num_partizioni=10, modelName='PCA - Overs. + Aug')\n",
    "\n",
    "\n",
    "#No Smoking\n",
    "X_train_PCA_noSmok_OverAug, X_test_PCA_noSmok_OverAug, y_train_PCA_noSmok_OverAug, y_test_PCA_noSmok_OverAug = preprocessing_diabetes(train_data, test_data, option='PCA', augment=True, oversample=True, delete_smoking=True)\n",
    "knn_best_PCA_noSmok_OverAug, performance_train_df_PCA_noSmok_OverAug = knn_grid_search(X_train_PCA_noSmok_OverAug, y_train_PCA_noSmok_OverAug, max_neighbors=15, num_partizioni=10 , modelName='No Smok + PCA - Overs. + Aug')\n",
    "\n",
    "Performance_all = pd.concat([Performance_all, performance_train_df_PCA_OverAug, performance_train_df_PCA_noSmok_OverAug], axis=0)"
   ]
  },
  {
   "cell_type": "markdown",
   "id": "df25d7cd",
   "metadata": {},
   "source": [
    "### Only with oversampling"
   ]
  },
  {
   "cell_type": "code",
   "execution_count": 6,
   "id": "adf7d407",
   "metadata": {},
   "outputs": [],
   "source": [
    "#Normal\n",
    "X_train_Norm_Over, X_test_Norm_Over, y_train_Norm_Over, y_test_Norm_Over = preprocessing_diabetes(train_data, test_data, augment=False, oversample=True, delete_smoking=False) \n",
    "knn_best_Norm_Over, performance_train_df_Norm_Over = knn_grid_search(X_train_Norm_Over, y_train_Norm_Over, max_neighbors=15, num_partizioni=10 , modelName='Normal - Oversampling')\n",
    "\n",
    "\n",
    "#PCA\n",
    "X_train_PCA_Over, X_test_PCA_Over, y_train_PCA_Over, y_test_PCA_Over = preprocessing_diabetes(train_data, test_data, option='PCA',augment=False, oversample=True, delete_smoking=False)\n",
    "knn_best_PCA_Over, performance_train_df_PCA_Over = knn_grid_search(X_train_PCA_Over, y_train_PCA_Over, max_neighbors=15, num_partizioni=10 , modelName='PCA - Oversampling')\n",
    "\n",
    "\n",
    "#No Correlation\n",
    "X_train_noCorr_Over, X_test_noCorr_Over, y_train_noCorr_Over, y_test_noCorr_Over = preprocessing_diabetes(train_data, test_data, option='Delete',augment=False, oversample=True, delete_smoking=False)\n",
    "knn_best_noCorr_Over, performance_train_df_noCorr_Over = knn_grid_search(X_train_noCorr_Over, y_train_noCorr_Over, max_neighbors=15, num_partizioni=10 , modelName='No_Correlation - Oversampling')\n",
    "\n",
    "\n",
    "#No Smoking\n",
    "X_train_NoSmok_Over, X_test_NoSmok_Over, y_train_NoSmok_Over, y_test_NoSmok_Over= preprocessing_diabetes(train_data, test_data, augment=False, oversample=True, delete_smoking=True)\n",
    "knn_best_NoSmok_Over, performance_train_df_NoSmok_Over = knn_grid_search(X_train_NoSmok_Over, y_train_NoSmok_Over, max_neighbors=15, num_partizioni=10, modelName='No_Smoking - Oversampling')\n",
    "\n",
    "\n",
    "Performance_all = pd.concat([Performance_all, performance_train_df_Norm_Over, performance_train_df_PCA_Over, performance_train_df_noCorr_Over, performance_train_df_NoSmok_Over], axis=0)"
   ]
  },
  {
   "cell_type": "markdown",
   "id": "8ec32ad0",
   "metadata": {},
   "source": [
    "# Risultati "
   ]
  },
  {
   "cell_type": "markdown",
   "id": "7562984a",
   "metadata": {},
   "source": [
    "PERFORMANCE Sul Test"
   ]
  },
  {
   "cell_type": "code",
   "execution_count": 7,
   "id": "b46f7951",
   "metadata": {},
   "outputs": [
    {
     "data": {
      "text/html": [
       "<div>\n",
       "<style scoped>\n",
       "    .dataframe tbody tr th:only-of-type {\n",
       "        vertical-align: middle;\n",
       "    }\n",
       "\n",
       "    .dataframe tbody tr th {\n",
       "        vertical-align: top;\n",
       "    }\n",
       "\n",
       "    .dataframe thead th {\n",
       "        text-align: right;\n",
       "    }\n",
       "</style>\n",
       "<table border=\"1\" class=\"dataframe\">\n",
       "  <thead>\n",
       "    <tr style=\"text-align: right;\">\n",
       "      <th></th>\n",
       "      <th>F1</th>\n",
       "      <th>metric</th>\n",
       "      <th>n_neighbors</th>\n",
       "      <th>weights</th>\n",
       "    </tr>\n",
       "  </thead>\n",
       "  <tbody>\n",
       "    <tr>\n",
       "      <th>Normal - Oversampling</th>\n",
       "      <td>0.981970</td>\n",
       "      <td>manhattan</td>\n",
       "      <td>2</td>\n",
       "      <td>uniform</td>\n",
       "    </tr>\n",
       "    <tr>\n",
       "      <th>No_Correlation - Oversampling</th>\n",
       "      <td>0.978825</td>\n",
       "      <td>manhattan</td>\n",
       "      <td>2</td>\n",
       "      <td>uniform</td>\n",
       "    </tr>\n",
       "    <tr>\n",
       "      <th>PCA - Oversampling</th>\n",
       "      <td>0.977240</td>\n",
       "      <td>euclidean</td>\n",
       "      <td>2</td>\n",
       "      <td>uniform</td>\n",
       "    </tr>\n",
       "    <tr>\n",
       "      <th>No_Smoking - Oversampling</th>\n",
       "      <td>0.976290</td>\n",
       "      <td>manhattan</td>\n",
       "      <td>2</td>\n",
       "      <td>uniform</td>\n",
       "    </tr>\n",
       "    <tr>\n",
       "      <th>No Smok + PCA - Overs. + Aug</th>\n",
       "      <td>0.975663</td>\n",
       "      <td>manhattan</td>\n",
       "      <td>1</td>\n",
       "      <td>uniform</td>\n",
       "    </tr>\n",
       "    <tr>\n",
       "      <th>PCA - Overs. + Aug</th>\n",
       "      <td>0.974595</td>\n",
       "      <td>euclidean</td>\n",
       "      <td>1</td>\n",
       "      <td>uniform</td>\n",
       "    </tr>\n",
       "    <tr>\n",
       "      <th>Normal</th>\n",
       "      <td>0.937319</td>\n",
       "      <td>manhattan</td>\n",
       "      <td>12</td>\n",
       "      <td>distance</td>\n",
       "    </tr>\n",
       "    <tr>\n",
       "      <th>No_Correlation</th>\n",
       "      <td>0.932943</td>\n",
       "      <td>manhattan</td>\n",
       "      <td>5</td>\n",
       "      <td>distance</td>\n",
       "    </tr>\n",
       "    <tr>\n",
       "      <th>No_Smoking</th>\n",
       "      <td>0.932658</td>\n",
       "      <td>manhattan</td>\n",
       "      <td>4</td>\n",
       "      <td>distance</td>\n",
       "    </tr>\n",
       "    <tr>\n",
       "      <th>PCA</th>\n",
       "      <td>0.927443</td>\n",
       "      <td>euclidean</td>\n",
       "      <td>2</td>\n",
       "      <td>uniform</td>\n",
       "    </tr>\n",
       "  </tbody>\n",
       "</table>\n",
       "</div>"
      ],
      "text/plain": [
       "                                     F1     metric  n_neighbors   weights\n",
       "Normal - Oversampling          0.981970  manhattan            2   uniform\n",
       "No_Correlation - Oversampling  0.978825  manhattan            2   uniform\n",
       "PCA - Oversampling             0.977240  euclidean            2   uniform\n",
       "No_Smoking - Oversampling      0.976290  manhattan            2   uniform\n",
       "No Smok + PCA - Overs. + Aug   0.975663  manhattan            1   uniform\n",
       "PCA - Overs. + Aug             0.974595  euclidean            1   uniform\n",
       "Normal                         0.937319  manhattan           12  distance\n",
       "No_Correlation                 0.932943  manhattan            5  distance\n",
       "No_Smoking                     0.932658  manhattan            4  distance\n",
       "PCA                            0.927443  euclidean            2   uniform"
      ]
     },
     "metadata": {},
     "output_type": "display_data"
    }
   ],
   "source": [
    "Performance_all = Performance_all.drop(columns=['Accuracy', 'Precision', 'Recall'])\n",
    "Performance_all = Performance_all.sort_values(by='F1', ascending=False)\n",
    "display(Performance_all)"
   ]
  },
  {
   "cell_type": "markdown",
   "id": "ed12f95d",
   "metadata": {},
   "source": [
    "Test sul modello con F1 più alta "
   ]
  },
  {
   "cell_type": "code",
   "execution_count": 8,
   "id": "aef70ffe",
   "metadata": {},
   "outputs": [
    {
     "data": {
      "text/html": [
       "<div>\n",
       "<style scoped>\n",
       "    .dataframe tbody tr th:only-of-type {\n",
       "        vertical-align: middle;\n",
       "    }\n",
       "\n",
       "    .dataframe tbody tr th {\n",
       "        vertical-align: top;\n",
       "    }\n",
       "\n",
       "    .dataframe thead th {\n",
       "        text-align: right;\n",
       "    }\n",
       "</style>\n",
       "<table border=\"1\" class=\"dataframe\">\n",
       "  <thead>\n",
       "    <tr style=\"text-align: right;\">\n",
       "      <th></th>\n",
       "      <th>Accuracy</th>\n",
       "      <th>Precision</th>\n",
       "      <th>Recall</th>\n",
       "      <th>f1</th>\n",
       "    </tr>\n",
       "  </thead>\n",
       "  <tbody>\n",
       "    <tr>\n",
       "      <th>Normal - Oversampling</th>\n",
       "      <td>0.959184</td>\n",
       "      <td>0.878049</td>\n",
       "      <td>0.972973</td>\n",
       "      <td>0.923077</td>\n",
       "    </tr>\n",
       "  </tbody>\n",
       "</table>\n",
       "</div>"
      ],
      "text/plain": [
       "                       Accuracy  Precision    Recall        f1\n",
       "Normal - Oversampling  0.959184   0.878049  0.972973  0.923077"
      ]
     },
     "metadata": {},
     "output_type": "display_data"
    },
    {
     "data": {
      "image/png": "[encoded data removed]",
      "text/plain": [
       "<Figure size 600x400 with 2 Axes>"
      ]
     },
     "metadata": {},
     "output_type": "display_data"
    }
   ],
   "source": [
    "metrics_df_Norm_Over, conf_mat_Norm_Over = evaluate_knn(knn_best_Norm_Over, X_test_Norm_Over, y_test_Norm_Over, label='Normal - Oversampling')\n",
    "\n",
    "display(metrics_df_Norm_Over)\n",
    "\n",
    "# MATRICE DI CONFUSIONE\n",
    "fig2, ax2 = plt.subplots(1, 1, figsize=(6, 4))\n",
    "sns.heatmap(conf_mat_Norm_Over, annot=True, fmt='d', cmap='Blues', ax=ax2, annot_kws={\"size\": 10})\n",
    "ax2.set_title('Normal - Oversampling', fontsize=12)\n",
    "ax2.set_xlabel('Predicted', fontsize=10)\n",
    "ax2.set_ylabel('True', fontsize=10)\n",
    "ax2.tick_params(axis='both', labelsize=9)\n",
    "plt.tight_layout()\n",
    "plt.show()"
   ]
  }
 ],
 "metadata": {
  "kernelspec": {
   "display_name": "Python 3",
   "language": "python",
   "name": "python3"
  },
  "language_info": {
   "codemirror_mode": {
    "name": "ipython",
    "version": 3
   },
   "file_extension": ".py",
   "mimetype": "text/x-python",
   "name": "python",
   "nbconvert_exporter": "python",
   "pygments_lexer": "ipython3",
   "version": "3.13.2"
  }
 },
 "nbformat": 4,
 "nbformat_minor": 5
}
